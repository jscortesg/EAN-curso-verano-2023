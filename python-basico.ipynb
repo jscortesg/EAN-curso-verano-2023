{
 "cells": [
  {
   "cell_type": "markdown",
   "id": "83a28a79",
   "metadata": {},
   "source": [
    "# Conceptos fundamentales de Python"
   ]
  },
  {
   "cell_type": "markdown",
   "id": "5769ef3d",
   "metadata": {},
   "source": [
    "Impresión de datos y operaciones básicas"
   ]
  },
  {
   "cell_type": "code",
   "execution_count": null,
   "id": "22fc7c75",
   "metadata": {},
   "outputs": [],
   "source": [
    "# Imprimir \"Hola mundo\"\n",
    "print(\"Hola mundo\")"
   ]
  },
  {
   "cell_type": "code",
   "execution_count": null,
   "id": "354b6622",
   "metadata": {},
   "outputs": [],
   "source": [
    "# Definir y utilizar variables\n",
    "nombre = \"Juan\"\n",
    "edad = 25\n",
    "altura = 1.75\n",
    "\n",
    "print(\"Nombre:\", nombre)\n",
    "print(\"Edad:\", edad)\n",
    "print(\"Altura:\", altura)"
   ]
  },
  {
   "cell_type": "code",
   "execution_count": null,
   "id": "78423969",
   "metadata": {},
   "outputs": [],
   "source": [
    "nombre"
   ]
  },
  {
   "cell_type": "code",
   "execution_count": null,
   "id": "cc0c2948",
   "metadata": {},
   "outputs": [],
   "source": [
    "edad"
   ]
  },
  {
   "cell_type": "code",
   "execution_count": null,
   "id": "0551fd1b",
   "metadata": {},
   "outputs": [],
   "source": [
    "altura"
   ]
  },
  {
   "cell_type": "code",
   "execution_count": null,
   "id": "c1ce978b",
   "metadata": {},
   "outputs": [],
   "source": [
    "type(nombre)"
   ]
  },
  {
   "cell_type": "code",
   "execution_count": null,
   "id": "eadabb42",
   "metadata": {},
   "outputs": [],
   "source": [
    "type(edad)"
   ]
  },
  {
   "cell_type": "code",
   "execution_count": null,
   "id": "41bad330",
   "metadata": {},
   "outputs": [],
   "source": [
    "type(altura)"
   ]
  },
  {
   "cell_type": "code",
   "execution_count": null,
   "id": "da62d9ae",
   "metadata": {},
   "outputs": [],
   "source": [
    "type(\"Juan\")"
   ]
  },
  {
   "cell_type": "code",
   "execution_count": null,
   "id": "f5dd768c",
   "metadata": {},
   "outputs": [],
   "source": [
    "type(25)"
   ]
  },
  {
   "cell_type": "code",
   "execution_count": null,
   "id": "893713e5",
   "metadata": {},
   "outputs": [],
   "source": [
    "print(\"Nombre tipo:\", type(nombre))\n",
    "print(\"Edad tipo:\", type(edad))\n",
    "print(\"Altura tipo:\", type(altura))"
   ]
  },
  {
   "cell_type": "code",
   "execution_count": null,
   "id": "c1e67a08",
   "metadata": {},
   "outputs": [],
   "source": [
    "# Operaciones básicas\n",
    "a = 11\n",
    "b = 6\n",
    "\n",
    "suma = a + b\n",
    "resta = a - b\n",
    "multiplicacion = a * b\n",
    "division = a / b\n",
    "\n",
    "print(\"Suma:\", suma)\n",
    "print(\"Resta:\", resta)\n",
    "print(\"Multiplicación:\", multiplicacion)\n",
    "print(\"División:\", round(division,2))"
   ]
  },
  {
   "cell_type": "markdown",
   "id": "c572974a",
   "metadata": {},
   "source": [
    "Tipos de datos"
   ]
  },
  {
   "cell_type": "code",
   "execution_count": null,
   "id": "aeb7bc0e",
   "metadata": {},
   "outputs": [],
   "source": [
    "x = 10\n",
    "y = 5\n",
    "#Enteros"
   ]
  },
  {
   "cell_type": "code",
   "execution_count": null,
   "id": "53286682",
   "metadata": {},
   "outputs": [],
   "source": [
    "type(x)"
   ]
  },
  {
   "cell_type": "code",
   "execution_count": null,
   "id": "49a35481",
   "metadata": {},
   "outputs": [],
   "source": [
    "pi = 3.14159\n",
    "#punto flotante"
   ]
  },
  {
   "cell_type": "code",
   "execution_count": null,
   "id": "8d6ceed4",
   "metadata": {},
   "outputs": [],
   "source": [
    "type(pi)"
   ]
  },
  {
   "cell_type": "code",
   "execution_count": null,
   "id": "5a766129",
   "metadata": {},
   "outputs": [],
   "source": [
    "nombre = \"Juan\"\n",
    "#cadenas de texto"
   ]
  },
  {
   "cell_type": "code",
   "execution_count": null,
   "id": "c8d74630",
   "metadata": {},
   "outputs": [],
   "source": [
    "type(nombre)"
   ]
  },
  {
   "cell_type": "code",
   "execution_count": null,
   "id": "46348f5f",
   "metadata": {},
   "outputs": [],
   "source": [
    "es_verdadero = True\n",
    "es_falso = False\n",
    "#booleanos"
   ]
  },
  {
   "cell_type": "code",
   "execution_count": null,
   "id": "167dbba9",
   "metadata": {},
   "outputs": [],
   "source": [
    "type(es_verdadero)"
   ]
  },
  {
   "cell_type": "code",
   "execution_count": null,
   "id": "d5dd06c5",
   "metadata": {},
   "outputs": [],
   "source": [
    "es_falso"
   ]
  },
  {
   "cell_type": "markdown",
   "id": "b660358b",
   "metadata": {},
   "source": [
    "Listas"
   ]
  },
  {
   "cell_type": "code",
   "execution_count": null,
   "id": "e9c85a65",
   "metadata": {},
   "outputs": [],
   "source": [
    "numeros = [1, 2, 3, 4, 5]\n",
    "nombres = [\"Juan\", \"María\", \"Pedro\"]\n",
    "mezclado = [1, \"dos\", True, 3.14]"
   ]
  },
  {
   "cell_type": "code",
   "execution_count": null,
   "id": "fa649c2c",
   "metadata": {},
   "outputs": [],
   "source": [
    "multiplos_tres = [3, 6, 9, 12]"
   ]
  },
  {
   "cell_type": "code",
   "execution_count": null,
   "id": "a12a0712",
   "metadata": {},
   "outputs": [],
   "source": [
    "type(multiplos_tres)"
   ]
  },
  {
   "cell_type": "code",
   "execution_count": null,
   "id": "60743657",
   "metadata": {},
   "outputs": [],
   "source": [
    "primer_numero = numeros[0]  "
   ]
  },
  {
   "cell_type": "code",
   "execution_count": null,
   "id": "f14b0cbc",
   "metadata": {},
   "outputs": [],
   "source": [
    "primer_numero"
   ]
  },
  {
   "cell_type": "code",
   "execution_count": null,
   "id": "41fa7b58",
   "metadata": {},
   "outputs": [],
   "source": [
    "numeros[3]"
   ]
  },
  {
   "cell_type": "code",
   "execution_count": null,
   "id": "b37b6ba0",
   "metadata": {},
   "outputs": [],
   "source": [
    "len(numeros)"
   ]
  },
  {
   "cell_type": "code",
   "execution_count": null,
   "id": "070c9470",
   "metadata": {},
   "outputs": [],
   "source": [
    "numeros[4]"
   ]
  },
  {
   "cell_type": "code",
   "execution_count": null,
   "id": "81da2257",
   "metadata": {},
   "outputs": [],
   "source": [
    "numeros[5]"
   ]
  },
  {
   "cell_type": "code",
   "execution_count": null,
   "id": "316dc17d",
   "metadata": {},
   "outputs": [],
   "source": [
    "numeros[-1]"
   ]
  },
  {
   "cell_type": "code",
   "execution_count": null,
   "id": "8d785ead",
   "metadata": {},
   "outputs": [],
   "source": [
    "mezclado"
   ]
  },
  {
   "cell_type": "code",
   "execution_count": null,
   "id": "0cfb4b28",
   "metadata": {},
   "outputs": [],
   "source": [
    "for ele in mezclado:\n",
    "    print(type(ele))"
   ]
  },
  {
   "cell_type": "code",
   "execution_count": null,
   "id": "6b0b4f87",
   "metadata": {},
   "outputs": [],
   "source": [
    "mezclado[0] = 4"
   ]
  },
  {
   "cell_type": "code",
   "execution_count": null,
   "id": "166d89a6",
   "metadata": {},
   "outputs": [],
   "source": [
    "mezclado"
   ]
  },
  {
   "cell_type": "code",
   "execution_count": null,
   "id": "66b784c0",
   "metadata": {},
   "outputs": [],
   "source": [
    "numeros = [1, 2, 3, 4, 5]"
   ]
  },
  {
   "cell_type": "code",
   "execution_count": null,
   "id": "62f1e578",
   "metadata": {},
   "outputs": [],
   "source": [
    "numeros[4] = 9"
   ]
  },
  {
   "cell_type": "code",
   "execution_count": null,
   "id": "cc6bec4e",
   "metadata": {},
   "outputs": [],
   "source": [
    "numeros"
   ]
  },
  {
   "cell_type": "markdown",
   "id": "1e8c2626",
   "metadata": {},
   "source": [
    "Tuplas"
   ]
  },
  {
   "cell_type": "code",
   "execution_count": null,
   "id": "ca5c2189",
   "metadata": {},
   "outputs": [],
   "source": [
    "coordenadas = (10, 20)\n",
    "punto = (\"rojo\", coordenadas)\n"
   ]
  },
  {
   "cell_type": "code",
   "execution_count": null,
   "id": "af482a54",
   "metadata": {},
   "outputs": [],
   "source": [
    "coordenadas"
   ]
  },
  {
   "cell_type": "code",
   "execution_count": null,
   "id": "d5f80a5e",
   "metadata": {},
   "outputs": [],
   "source": [
    "coordenadas[0]"
   ]
  },
  {
   "cell_type": "code",
   "execution_count": null,
   "id": "8e6a53ba",
   "metadata": {},
   "outputs": [],
   "source": [
    "coordenadas[0] = 100"
   ]
  },
  {
   "cell_type": "markdown",
   "id": "fc0d6a46",
   "metadata": {},
   "source": [
    "Diccionarios"
   ]
  },
  {
   "cell_type": "code",
   "execution_count": null,
   "id": "fa3880d3",
   "metadata": {},
   "outputs": [],
   "source": [
    "persona = {\n",
    "    \"nombre\": \"Juan\",\n",
    "    \"edad\": 25,\n",
    "    \"ciudad\": \"Madrid\"\n",
    "}"
   ]
  },
  {
   "cell_type": "code",
   "execution_count": null,
   "id": "3e434db3",
   "metadata": {},
   "outputs": [],
   "source": [
    "nombre_persona = persona[\"nombre\"]  "
   ]
  },
  {
   "cell_type": "code",
   "execution_count": null,
   "id": "fa0e0cd7",
   "metadata": {},
   "outputs": [],
   "source": [
    "nombre_persona"
   ]
  },
  {
   "cell_type": "code",
   "execution_count": null,
   "id": "ddbb786a",
   "metadata": {},
   "outputs": [],
   "source": [
    "persona[\"edad\"]"
   ]
  },
  {
   "cell_type": "code",
   "execution_count": null,
   "id": "8d22c814",
   "metadata": {},
   "outputs": [],
   "source": [
    "# Números\n",
    "numero_entero = 10\n",
    "numero_decimal = 3.14\n",
    "\n",
    "\n",
    "\n",
    "# Listas\n",
    "frutas = [\"manzana\", \"banana\", \"naranja\"]\n",
    "primer_elemento = frutas[0]\n",
    "\n",
    "# Tuplas\n",
    "coordenadas = (3, 4)\n",
    "x, y = coordenadas\n",
    "\n",
    "# Diccionarios\n",
    "persona = {\"nombre\": \"Juan\", \"edad\": 25, \"ciudad\": \"México\"}\n",
    "edad = persona[\"edad\"]\n"
   ]
  },
  {
   "cell_type": "code",
   "execution_count": null,
   "id": "3626bde5",
   "metadata": {},
   "outputs": [],
   "source": [
    "# Cadenas de texto\n",
    "nombre = \"Juan\"\n",
    "mensaje = 'Hola, {}!'.format(nombre)"
   ]
  },
  {
   "cell_type": "code",
   "execution_count": null,
   "id": "62292c9e",
   "metadata": {},
   "outputs": [],
   "source": [
    "mensaje"
   ]
  },
  {
   "cell_type": "markdown",
   "id": "a7c68905",
   "metadata": {},
   "source": [
    "Dynamic comprehension"
   ]
  },
  {
   "cell_type": "code",
   "execution_count": null,
   "id": "f1762fa2",
   "metadata": {},
   "outputs": [],
   "source": [
    "numeros_din = [x for x in range(1,21,2)]\n",
    "numeros_din"
   ]
  },
  {
   "cell_type": "code",
   "execution_count": null,
   "id": "4042e089",
   "metadata": {},
   "outputs": [],
   "source": [
    "# Listas\n",
    "numeros = [1, 2, 3, 4, 5]\n",
    "cuadrados = [num**2 for num in numeros]\n",
    "\n",
    "# Tuplas\n",
    "coordenadas = [(x, y) for x in range(3) for y in range(3)]\n",
    "\n",
    "# Diccionarios\n",
    "frutas = [\"manzana\", \"banana\", \"naranja\"]\n",
    "puntuaciones = {fruta: len(fruta) for fruta in frutas}"
   ]
  },
  {
   "cell_type": "code",
   "execution_count": null,
   "id": "f5d13ef2",
   "metadata": {},
   "outputs": [],
   "source": [
    "cuadrados"
   ]
  },
  {
   "cell_type": "code",
   "execution_count": null,
   "id": "8fef124d",
   "metadata": {},
   "outputs": [],
   "source": [
    "coordenadas"
   ]
  },
  {
   "cell_type": "code",
   "execution_count": null,
   "id": "97fcfd0b",
   "metadata": {},
   "outputs": [],
   "source": [
    "puntuaciones"
   ]
  },
  {
   "cell_type": "markdown",
   "id": "89fafca5",
   "metadata": {},
   "source": [
    "Operaciones con números y caracteres"
   ]
  },
  {
   "cell_type": "code",
   "execution_count": null,
   "id": "23f01e43",
   "metadata": {},
   "outputs": [],
   "source": [
    "# Operaciones con cadenas de texto\n",
    "texto1 = \"Hola\"\n",
    "texto2 = \"Mundo\"\n",
    "concatenacion = texto1 + \" \" + texto2"
   ]
  },
  {
   "cell_type": "code",
   "execution_count": null,
   "id": "c5446f72",
   "metadata": {},
   "outputs": [],
   "source": [
    "concatenacion"
   ]
  },
  {
   "cell_type": "code",
   "execution_count": null,
   "id": "8f58d3ed",
   "metadata": {},
   "outputs": [],
   "source": [
    "longitud = len(texto1)"
   ]
  },
  {
   "cell_type": "code",
   "execution_count": null,
   "id": "2e713950",
   "metadata": {},
   "outputs": [],
   "source": [
    "longitud"
   ]
  },
  {
   "cell_type": "code",
   "execution_count": null,
   "id": "a63929fb",
   "metadata": {},
   "outputs": [],
   "source": [
    "len(concatenacion)"
   ]
  },
  {
   "cell_type": "code",
   "execution_count": null,
   "id": "fe2c56a0",
   "metadata": {},
   "outputs": [],
   "source": [
    "primer_caracter = texto1[0]\n",
    "\n",
    "primer_caracter"
   ]
  },
  {
   "cell_type": "markdown",
   "id": "c14d51b3",
   "metadata": {},
   "source": [
    "Slicing"
   ]
  },
  {
   "cell_type": "code",
   "execution_count": null,
   "id": "84838691",
   "metadata": {},
   "outputs": [],
   "source": [
    "texto = \"Hola mundo\"\n",
    "subcadena = texto[1:5]  "
   ]
  },
  {
   "cell_type": "code",
   "execution_count": null,
   "id": "22e26014",
   "metadata": {},
   "outputs": [],
   "source": [
    "subcadena"
   ]
  },
  {
   "cell_type": "markdown",
   "id": "84b54638",
   "metadata": {},
   "source": [
    "Otros métodos"
   ]
  },
  {
   "cell_type": "code",
   "execution_count": null,
   "id": "8f0d33c6",
   "metadata": {},
   "outputs": [],
   "source": [
    "texto = \"Hola mundo\"\n",
    "texto_mayusculas = texto.upper()  \n",
    "texto_minusculas = texto.lower()  \n",
    "reemplazo = texto.replace(\"Hola\", \"Adiós\")  \n",
    "palabras = texto.split()  "
   ]
  },
  {
   "cell_type": "code",
   "execution_count": null,
   "id": "401edb32",
   "metadata": {},
   "outputs": [],
   "source": [
    "texto_mayusculas"
   ]
  },
  {
   "cell_type": "code",
   "execution_count": null,
   "id": "84fb338c",
   "metadata": {},
   "outputs": [],
   "source": [
    "texto_minusculas"
   ]
  },
  {
   "cell_type": "code",
   "execution_count": null,
   "id": "ae92a894",
   "metadata": {},
   "outputs": [],
   "source": [
    "reemplazo"
   ]
  },
  {
   "cell_type": "code",
   "execution_count": null,
   "id": "0230a73c",
   "metadata": {},
   "outputs": [],
   "source": [
    "palabras"
   ]
  },
  {
   "cell_type": "markdown",
   "id": "fefc4c57",
   "metadata": {},
   "source": [
    "Comparaciones"
   ]
  },
  {
   "cell_type": "code",
   "execution_count": null,
   "id": "fe66860c",
   "metadata": {},
   "outputs": [],
   "source": [
    "a = 10\n",
    "b = 5\n",
    "\n",
    "igualdad = a == b  \n",
    "desigualdad = a != b  \n",
    "mayor_que = a > b  \n",
    "menor_que = a < b  \n",
    "mayor_o_igual_que = a >= b  \n",
    "menor_o_igual_que = a <= b  \n"
   ]
  },
  {
   "cell_type": "code",
   "execution_count": null,
   "id": "c4f7ff77",
   "metadata": {},
   "outputs": [],
   "source": [
    "igualdad, desigualdad, mayor_que, menor_que, mayor_o_igual_que, menor_o_igual_que"
   ]
  },
  {
   "cell_type": "markdown",
   "id": "ec65e490",
   "metadata": {},
   "source": [
    "Funciones"
   ]
  },
  {
   "cell_type": "code",
   "execution_count": null,
   "id": "3df71107",
   "metadata": {},
   "outputs": [],
   "source": [
    "# Definición de una función\n",
    "def saludar(nombre):\n",
    "    mensaje = \"¡Hola, {}!\".format(nombre)\n",
    "    return mensaje"
   ]
  },
  {
   "cell_type": "code",
   "execution_count": null,
   "id": "97db5943",
   "metadata": {},
   "outputs": [],
   "source": [
    "# Llamada a la función\n",
    "nombre = \"Sebastián\"\n",
    "saludo = saludar(nombre)\n",
    "print(saludo)  # Resultado: ¡Hola, Juan!"
   ]
  },
  {
   "cell_type": "code",
   "execution_count": null,
   "id": "db0f5df3",
   "metadata": {},
   "outputs": [],
   "source": [
    "def suma(a, b):\n",
    "    resultado = a + b\n",
    "    return resultado"
   ]
  },
  {
   "cell_type": "code",
   "execution_count": null,
   "id": "2c8da53f",
   "metadata": {},
   "outputs": [],
   "source": [
    "resultado = suma(3, 4)  # Llamada a la función suma\n",
    "print(resultado)"
   ]
  },
  {
   "cell_type": "code",
   "execution_count": null,
   "id": "8507be35",
   "metadata": {},
   "outputs": [],
   "source": [
    "def funcion(x,y):\n",
    "    cuad = pow(x,2) + pow(y,2)\n",
    "    return cuad"
   ]
  },
  {
   "cell_type": "code",
   "execution_count": null,
   "id": "f7498328",
   "metadata": {},
   "outputs": [],
   "source": [
    "funcion(3,4)"
   ]
  },
  {
   "cell_type": "markdown",
   "id": "15a9496b",
   "metadata": {},
   "source": [
    "x**2 = pow(x,2)"
   ]
  },
  {
   "cell_type": "markdown",
   "id": "73ba4870",
   "metadata": {},
   "source": [
    "# Ejemplos"
   ]
  },
  {
   "cell_type": "code",
   "execution_count": null,
   "id": "4c5822e9",
   "metadata": {},
   "outputs": [],
   "source": [
    "# Ejemplo: Acceder a elementos de una lista y diccionario\n",
    "\n",
    "frutas = [\"manzana\", \"banana\", \"naranja\"]\n",
    "primera_fruta = frutas[0]\n",
    "\n",
    "persona = {\"nombre\": \"Juan\", \"edad\": 25, \"ciudad\": \"México\"}\n",
    "edad_persona = persona[\"edad\"]\n",
    "\n",
    "print(\"La primera fruta es:\", primera_fruta)\n",
    "print(\"La edad de la persona es:\", edad_persona)\n"
   ]
  },
  {
   "cell_type": "code",
   "execution_count": null,
   "id": "946c2422",
   "metadata": {},
   "outputs": [],
   "source": [
    "# Ejemplo: Generar una lista con los cuadrados de los números pares del 1 al 10\n",
    "\n",
    "numeros = [num**2 for num in range(1, 11) if num % 2 == 0]\n",
    "\n",
    "print(\"La lista de cuadrados es:\", numeros)\n"
   ]
  },
  {
   "cell_type": "code",
   "execution_count": null,
   "id": "7a83d3e9",
   "metadata": {},
   "outputs": [],
   "source": [
    "# Ejemplo: Generar una lista de tuplas con todas las combinaciones posibles de dos elementos de [1, 2, 3]\n",
    "\n",
    "combinaciones = [(x, y) for x in [1, 2, 3] for y in [1, 2, 3]]\n",
    "\n",
    "print(\"La lista de combinaciones es:\", combinaciones)\n"
   ]
  },
  {
   "cell_type": "markdown",
   "id": "e1cd7b41",
   "metadata": {},
   "source": [
    "# Expresiones Lambda"
   ]
  },
  {
   "cell_type": "code",
   "execution_count": null,
   "id": "c51bfbe3",
   "metadata": {},
   "outputs": [],
   "source": [
    "# Ejemplo 1: Función lambda básica\n",
    "# La función lambda toma un parámetro 'x' y devuelve el cuadrado de 'x'\n",
    "square = lambda x: x ** 2\n",
    "\n",
    "# Llamar a la función lambda\n",
    "result = square(10)\n",
    "print(result) "
   ]
  },
  {
   "cell_type": "code",
   "execution_count": null,
   "id": "ec0eb001",
   "metadata": {},
   "outputs": [],
   "source": [
    "type(square)"
   ]
  },
  {
   "cell_type": "code",
   "execution_count": null,
   "id": "db9d2339",
   "metadata": {},
   "outputs": [],
   "source": [
    "# Ejemplo 2: Uso de lambda con filter()\n",
    "# Filtrar los números pares de una lista\n",
    "numbers = [x for x in range(1,11)]\n",
    "even_numbers = list(filter(lambda x: x % 2 == 0, numbers))\n",
    "print(even_numbers)  "
   ]
  },
  {
   "cell_type": "code",
   "execution_count": null,
   "id": "6ca867c5",
   "metadata": {},
   "outputs": [],
   "source": [
    "# Ejemplo 3: Uso de lambda con map()\n",
    "# Duplicar cada elemento de una lista\n",
    "numbers = [1, 2, 3, 4, 5]\n",
    "doubled_numbers = list(map(lambda x: x * 2, numbers))\n",
    "print(doubled_numbers)  "
   ]
  },
  {
   "cell_type": "markdown",
   "id": "d95e5141",
   "metadata": {},
   "source": [
    "# Librerías en Python "
   ]
  },
  {
   "cell_type": "code",
   "execution_count": null,
   "id": "088b028a",
   "metadata": {},
   "outputs": [],
   "source": [
    "import math\n",
    "import numpy as np\n",
    "\n",
    "# Operaciones con la librería math\n",
    "num = 2.5\n",
    "\n",
    "# Redondeo\n",
    "num_redondeado = round(num)\n",
    "print(\"Redondeo:\", num_redondeado)\n",
    "\n",
    "# Valor absoluto\n",
    "num_absoluto = abs(num)\n",
    "print(\"Valor absoluto:\", num_absoluto)"
   ]
  },
  {
   "cell_type": "code",
   "execution_count": null,
   "id": "9e688213",
   "metadata": {},
   "outputs": [],
   "source": [
    "# Funciones trigonométricas\n",
    "angulo_rad = math.radians(45)\n",
    "seno = math.sin(angulo_rad)\n",
    "coseno = math.cos(angulo_rad)\n",
    "print(\"Seno:\", seno)\n",
    "print(\"Coseno:\", coseno)"
   ]
  },
  {
   "cell_type": "code",
   "execution_count": null,
   "id": "2ea6442f",
   "metadata": {},
   "outputs": [],
   "source": [
    "math.sin(45)"
   ]
  },
  {
   "cell_type": "code",
   "execution_count": null,
   "id": "40eb610c",
   "metadata": {},
   "outputs": [],
   "source": [
    "math.pi"
   ]
  },
  {
   "cell_type": "code",
   "execution_count": null,
   "id": "c1be01c5",
   "metadata": {},
   "outputs": [],
   "source": [
    "np.pi"
   ]
  },
  {
   "cell_type": "code",
   "execution_count": null,
   "id": "d02d9bfa",
   "metadata": {},
   "outputs": [],
   "source": [
    "math.sin((3.1416*45)/180)"
   ]
  },
  {
   "cell_type": "code",
   "execution_count": null,
   "id": "4ab347b8",
   "metadata": {},
   "outputs": [],
   "source": [
    "math.tan(angulo_rad)"
   ]
  },
  {
   "cell_type": "code",
   "execution_count": null,
   "id": "4eb1a16c",
   "metadata": {},
   "outputs": [],
   "source": [
    "seno/coseno"
   ]
  },
  {
   "cell_type": "code",
   "execution_count": null,
   "id": "2ab2cff3",
   "metadata": {},
   "outputs": [],
   "source": [
    "np.sin(angulo_rad)"
   ]
  },
  {
   "cell_type": "code",
   "execution_count": null,
   "id": "0f51fe5a",
   "metadata": {},
   "outputs": [],
   "source": [
    "# Operaciones con la librería numpy\n",
    "datos = [1, 2, 3, 4, 5]\n",
    "\n",
    "# Suma\n",
    "suma = np.sum(datos)\n",
    "print(\"Suma:\", suma)\n",
    "\n",
    "# Promedio\n",
    "promedio = np.mean(datos)\n",
    "print(\"Promedio:\", promedio)\n",
    "\n",
    "# Máximo y mínimo\n",
    "maximo = np.max(datos)\n",
    "minimo = np.min(datos)\n",
    "print(\"Máximo:\", maximo)\n",
    "print(\"Mínimo:\", minimo)"
   ]
  },
  {
   "cell_type": "markdown",
   "id": "4f14e19f",
   "metadata": {},
   "source": [
    "# Mínimos de la función $f(x,y) = (4 - 2.1x^{2} + x^{4}/3)x^{2} + xy + (4y^{2}-4)y^{2}$"
   ]
  },
  {
   "cell_type": "code",
   "execution_count": null,
   "id": "87b4894d",
   "metadata": {},
   "outputs": [],
   "source": [
    "import sympy as sp\n",
    "\n",
    "x, y = sp.symbols('x y')\n",
    "f = (4 - 2.1 * x ** 2 + ((x ** 4) / 3)) * x ** 2 + x * y + (4 * y ** 2 - 4)*y ** 2\n",
    "\n",
    "df_dx = sp.diff(f, x)\n",
    "df_dy = sp.diff(f, y)\n",
    "\n",
    "df_dx, df_dy"
   ]
  },
  {
   "cell_type": "code",
   "execution_count": null,
   "id": "5d319ff3",
   "metadata": {},
   "outputs": [],
   "source": [
    "critical_points = sp.solve((df_dx, df_dy), (x, y))\n",
    "critical_points"
   ]
  },
  {
   "cell_type": "code",
   "execution_count": null,
   "id": "f3e057c4",
   "metadata": {},
   "outputs": [],
   "source": [
    "hessian = sp.Matrix([[sp.diff(df_dx, x), sp.diff(df_dx, y)],\n",
    "                    [sp.diff(df_dy, x), sp.diff(df_dy, y)]])\n",
    "\n",
    "hessian"
   ]
  },
  {
   "cell_type": "code",
   "execution_count": null,
   "id": "0edaafba",
   "metadata": {},
   "outputs": [],
   "source": [
    "nature = []\n",
    "\n",
    "for point in critical_points:\n",
    "    hessian_eval = hessian.subs({x: point[0], y: point[1]})\n",
    "    determinant = hessian_eval.det()\n",
    "    if determinant > 0:\n",
    "        nature.append(\"Mínimo\" if hessian_eval[0, 0] > 0 else \"Máximo\")\n",
    "    elif determinant < 0:\n",
    "        nature.append(\"Punto de silla\")\n",
    "    else:\n",
    "        nature.append(\"Indeterminado\")\n",
    "\n",
    "nature"
   ]
  },
  {
   "cell_type": "code",
   "execution_count": null,
   "id": "c1960e6d",
   "metadata": {},
   "outputs": [],
   "source": [
    "# Paso 5: Identificación de mínimos locales y globales\n",
    "minima = []\n",
    "\n",
    "for i, point in enumerate(critical_points):\n",
    "    value = f.subs({x: point[0], y: point[1]})\n",
    "    if nature[i] == \"Mínimo\":\n",
    "        minima.append((point, value, \"Local\"))\n",
    "    elif nature[i] == \"Máximo\":\n",
    "        minima.append((point, value, \"Global\"))\n",
    "\n",
    "minima"
   ]
  },
  {
   "cell_type": "code",
   "execution_count": null,
   "id": "111a3a8c",
   "metadata": {},
   "outputs": [],
   "source": [
    "import numpy as np\n",
    "import matplotlib.pyplot as plt\n",
    "from scipy.optimize import minimize\n",
    "\n",
    "# Definir la función\n",
    "def f(x, y):\n",
    "    return (4 - 2.1 * x ** 2 + (x ** 4 / 3)) * x ** 2 + x * y + (4 * y ** 2 - 4) + y ** 2\n",
    "\n",
    "# Definir el rango de valores de x e y\n",
    "x = np.linspace(-2, 2, 200)\n",
    "y = np.linspace(-2, 2, 200)\n",
    "\n",
    "# Crear una malla de puntos (x, y)\n",
    "X, Y = np.meshgrid(x, y)\n",
    "\n",
    "# Calcular los valores de la función en la malla de puntos\n",
    "Z = f(X, Y)\n",
    "\n",
    "# Encontrar el mínimo global\n",
    "global_minimum = minimize(lambda coords: f(coords[0], coords[1]), x0=[0, 0])\n",
    "\n",
    "# Encontrar los mínimos locales\n",
    "local_minimum_1 = minimize(lambda coords: f(coords[0], coords[1]), x0=[-1, -1])\n",
    "local_minimum_2 = minimize(lambda coords: f(coords[0], coords[1]), x0=[1, 1])\n",
    "\n",
    "# Graficar la función\n",
    "plt.figure(figsize=(8, 6))\n",
    "plt.contourf(X, Y, Z, levels=100, cmap='viridis')\n",
    "plt.colorbar(label='f(x, y)')\n",
    "plt.xlabel('x')\n",
    "plt.ylabel('y')\n",
    "\n",
    "# Graficar los mínimos locales\n",
    "plt.plot(local_minimum_1.x[0], local_minimum_1.x[1], 'ro', label='Local mínimo 1')\n",
    "plt.plot(local_minimum_2.x[0], local_minimum_2.x[1], 'ro', label='Local mínimo 2')\n",
    "\n",
    "# Graficar el mínimo global\n",
    "plt.plot(global_minimum.x[0], global_minimum.x[1], 'bo', label='Global mínimo')\n",
    "\n",
    "plt.legend()\n",
    "plt.title('Gráfico de la función con mínimos')\n",
    "plt.show()"
   ]
  },
  {
   "cell_type": "code",
   "execution_count": null,
   "id": "b8315e8b",
   "metadata": {},
   "outputs": [],
   "source": []
  }
 ],
 "metadata": {
  "kernelspec": {
   "display_name": "Python 3 (ipykernel)",
   "language": "python",
   "name": "python3"
  },
  "language_info": {
   "codemirror_mode": {
    "name": "ipython",
    "version": 3
   },
   "file_extension": ".py",
   "mimetype": "text/x-python",
   "name": "python",
   "nbconvert_exporter": "python",
   "pygments_lexer": "ipython3",
   "version": "3.10.9"
  }
 },
 "nbformat": 4,
 "nbformat_minor": 5
}
